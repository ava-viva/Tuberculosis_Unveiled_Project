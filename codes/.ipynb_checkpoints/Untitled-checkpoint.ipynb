{
 "cells": [
  {
   "cell_type": "code",
   "execution_count": null,
   "id": "405238bd",
   "metadata": {},
   "outputs": [],
   "source": [
    "import pandas as pd\n",
    "import numpy as np"
   ]
  },
  {
   "cell_type": "code",
   "execution_count": null,
   "id": "9bbbc7c0",
   "metadata": {},
   "outputs": [],
   "source": [
    "risk_factors=pd.read(../resources/Health_Risk_factors.csv)\n",
    "sustainability=pd.read(../resources/sustainability.csv)"
   ]
  },
  {
   "cell_type": "code",
   "execution_count": null,
   "id": "4d22ac82",
   "metadata": {},
   "outputs": [],
   "source": [
    "sustainability=sustainability.rename(columns={\n",
    "    \"People using  safely managed drinking water services  % of population 2017\":\"safe_water\",\n",
    "    \"People using  safely managed sanitation services  % of population 2017\":\"sanitation_service\",\n",
    "    \"Ambient PM2.5 air pollution mean annual exposure micrograms per cubic meter 2016\":\"air_pollution\",\n",
    "    \"Urban population living in slums  % of urban population 2014\":\"slum_population\",\n",
    "    \"Carbon dioxide emissions per capita metric tons 2014\":\"co2_emissions\"\n",
    "   \n",
    "})\n",
    "sustain_df = sustainability[[\n",
    "    \"Country\",\n",
    "    \"safe_water\", \n",
    "    \"sanitation_service\", \n",
    "    \"air_pollution\", \n",
    "    \"slum_population\", \n",
    "    \"co2_emissions\"]]\n",
    "\n",
    "sustain_df = sustain_df.set_index(\"Country\")"
   ]
  },
  {
   "cell_type": "code",
   "execution_count": null,
   "id": "fee29c99",
   "metadata": {},
   "outputs": [],
   "source": [
    "risk_factors=risk_factors.rename(columns={\n",
    "    \"Prevalence of smoking Male % of adults 2016\": \"smoking_male\",\n",
    "    \"Prevalence of smoking female % of adults 2016\" : \"smoking_female\",\n",
    "    \"Incidence of tuberculosis  per 100,000 people 2018\" : \"tuberculosis_per100k\",\n",
    "    \"Prevalence of diabetes  % of population ages 20 to 79 2019\": \"dibetes\",\n",
    "    \"Prevalence of HIV Total % of population ages 15-49 2018\":\"HIV_total\",\n",
    "    \"Prevalence of HIV Women's share of population ages 15+ living with HIV % 2018\": \"HIV_female\",\n",
    "    \"Prevalence of HIV Youth, Male % of population ages 15-24 2018\":\"HIV_youth_male\",\n",
    "    \"Prevalence of HIV Youth, Female % of population ages 15-24 2018\": \"HIV_youth_female\",\n",
    "    \"Antiretroviral therapy coverage  % of people living with HIV 2018\" :\"HIV_therapy\"\n",
    "    \n",
    "})\n",
    "\n",
    "risk_factors[\"HIV_male\"] = np.where(\n",
    "    pd.isnull(risk_factors[\"HIV_female\"]),\n",
    "    np.nan,\n",
    "    100 - risk_factors[\"HIV_female\"]\n",
    ")\n",
    "\n",
    "risk_df = risk_factors[[\n",
    "    \"Country\",\n",
    "    \"smoking_male\", \n",
    "    \"smoking_female\", \n",
    "    \"tuberculosis_per100k\", \n",
    "    \"diabetes\", \n",
    "    \"HIV_total\",\n",
    "    \"HIV_male\"\n",
    "    \"HIV_female\", \n",
    "    \"HIV_youth_male\", \n",
    "    \"HIV_youth_female\", \n",
    "    \"HIV_therapy\"\n",
    "]]\n",
    "\n",
    "risk_df=risk_df.set_index(\"Country\")"
   ]
  },
  {
   "cell_type": "code",
   "execution_count": null,
   "id": "3578faa7",
   "metadata": {},
   "outputs": [],
   "source": []
  },
  {
   "cell_type": "code",
   "execution_count": null,
   "id": "c157e674",
   "metadata": {},
   "outputs": [],
   "source": []
  },
  {
   "cell_type": "code",
   "execution_count": null,
   "id": "1b8cb311",
   "metadata": {},
   "outputs": [],
   "source": []
  },
  {
   "cell_type": "code",
   "execution_count": null,
   "id": "92e653b6",
   "metadata": {},
   "outputs": [],
   "source": []
  },
  {
   "cell_type": "code",
   "execution_count": null,
   "id": "39fcad2d",
   "metadata": {},
   "outputs": [],
   "source": []
  },
  {
   "cell_type": "code",
   "execution_count": null,
   "id": "796f10e6",
   "metadata": {},
   "outputs": [],
   "source": []
  },
  {
   "cell_type": "code",
   "execution_count": null,
   "id": "82826c4c",
   "metadata": {},
   "outputs": [],
   "source": []
  },
  {
   "cell_type": "code",
   "execution_count": null,
   "id": "2da67fe7",
   "metadata": {},
   "outputs": [],
   "source": []
  },
  {
   "cell_type": "code",
   "execution_count": null,
   "id": "39bba163",
   "metadata": {},
   "outputs": [],
   "source": []
  }
 ],
 "metadata": {
  "kernelspec": {
   "display_name": "Python 3 (ipykernel)",
   "language": "python",
   "name": "python3"
  },
  "language_info": {
   "codemirror_mode": {
    "name": "ipython",
    "version": 3
   },
   "file_extension": ".py",
   "mimetype": "text/x-python",
   "name": "python",
   "nbconvert_exporter": "python",
   "pygments_lexer": "ipython3",
   "version": "3.10.9"
  }
 },
 "nbformat": 4,
 "nbformat_minor": 5
}
